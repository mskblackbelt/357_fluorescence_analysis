{
 "cells": [
  {
   "cell_type": "markdown",
   "metadata": {},
   "source": [
    "# The Kinetics of a Diffusion-Controlled Reaction\n",
    "The title of the notebook should be reflected in the file name. Namely, the file name should be:\n",
    "*author's initials_title_date.ipynb*\n",
    "For example:\n",
    "*EF_Data Exploration_20210201.ipynb*\n"
   ]
  },
  {
   "cell_type": "markdown",
   "metadata": {},
   "source": [
    "## Objective\n",
    "State the purpose of the experiment.\n"
   ]
  },
  {
   "cell_type": "markdown",
   "metadata": {},
   "source": [
    "# Setup\n",
    "\n",
    "## Library import\n",
    "We import all the required Python libraries"
   ]
  },
  {
   "cell_type": "code",
   "execution_count": null,
   "metadata": {
    "ExecuteTime": {
     "end_time": "2019-06-16T14:44:50.874881Z",
     "start_time": "2019-06-16T14:44:38.616867Z"
    },
    "execution": {
     "iopub.execute_input": "2021-01-20T20:18:21.950Z",
     "iopub.status.busy": "2021-01-20T20:18:21.943Z",
     "iopub.status.idle": "2021-01-20T20:18:23.017Z",
     "shell.execute_reply": "2021-01-20T20:18:23.009Z"
    }
   },
   "outputs": [],
   "source": [
    "# File handling\n",
    "import shutil\n",
    "import glob\n",
    "import re\n",
    "\n",
    "# Data manipulation\n",
    "import numpy as np\n",
    "import scipy as sp\n",
    "import pandas as pd\n",
    "\n",
    "# Options for pandas\n",
    "pd.options.display.max_columns = 50\n",
    "pd.options.display.max_rows = 30\n",
    "\n",
    "# Visualizations\n",
    "import matplotlib.pyplot as plt\n",
    "%matplotlib inline\n",
    "import seaborn as sns\n",
    "sns.set_style(\"ticks\")\n",
    "sns.despine()"
   ]
  },
  {
   "cell_type": "markdown",
   "metadata": {},
   "source": [
    "# Parameter definition\n",
    "We set all relevant parameters for our notebook. By convention, parameters are uppercase, while all the \n",
    "other variables follow Python's guidelines."
   ]
  },
  {
   "cell_type": "markdown",
   "metadata": {},
   "source": [
    "# Data import\n",
    "We retrieve all the required data for the analysis."
   ]
  },
  {
   "cell_type": "code",
   "execution_count": null,
   "metadata": {},
   "outputs": [],
   "source": [
    "# Unzip your fluorescence data into a subfolder\n",
    "filename = \"name of your zip file\" + \".zip\" # fill in the name of the file without the ZIP extension\n",
    "dest_folder = \"name of destination folder\" # fill in a name for a subfolder to place the text files\n",
    "shutil.unpack_archive(filename, dest_folder)"
   ]
  },
  {
   "cell_type": "code",
   "execution_count": null,
   "metadata": {},
   "outputs": [],
   "source": [
    "# Import all of the files in your new folder. \n",
    "# If your files end in something other than \".TXT\", make that change here\n",
    "all_files = glob.glob(dest_folder + \"/*.TXT\")\n",
    "\n",
    "li = [] # Create an empty list to hold the contents of our assorted files\n",
    "# Import each file in order\n",
    "# Skip first 31 rows, as data doesn't start until line 32\n",
    "# Set first (0-th) column (nm) as index\n",
    "# Default file from fluorometer uses tabs (\\t) for separators\n",
    "for file in all_files:\n",
    "    df = pd.read_csv(file, skiprows=31, index_col=0, sep='\\t') \n",
    "    li.append(df)\n",
    "\n",
    "raw_spectra = pd.concat(li, axis=1) # Use `axis=1` to turn rows of list into columns of dataframe\n",
    "for file in all_files:\n",
    "    print(file) # List filenames so we can figure out our column naming in the next step. \n",
    "    \n",
    "raw_spectra.head() # Display the top five rows of our dataframe"
   ]
  },
  {
   "cell_type": "code",
   "execution_count": null,
   "metadata": {},
   "outputs": [],
   "source": [
    "# Here, we use the `re` (Regular Expressions) library to search for patterns in text\n",
    "# Specifically, we're going to look for the percentage numbers in our filenames. This assumes\n",
    "# your filenames have a two or three digit number representing the AN percent in your samples.\n",
    "cols = []\n",
    "for file in all_files:\n",
    "    # The next line looks for two or 3 digits in a row, assuming you've placed \n",
    "    # the concentration in your file names.\n",
    "    _val = int(re.findall(r'\\d{2,3}',file)[0]) # You may need to change this pattern, ask for help\n",
    "    cols.append(100-_val) # This line turns the AN percent into a CBr4 percent\n",
    "    \n",
    "cols # This is just to check for sane values. Order isn't important."
   ]
  },
  {
   "cell_type": "code",
   "execution_count": null,
   "metadata": {},
   "outputs": [],
   "source": [
    "# Assign the column labels to your dataframe columns, plot the spectra. \n",
    "# Make sure your spectra decrease in intensity from 0%–100% CBr4\n",
    "raw_spectra.columns = cols\n",
    "raw_spectra.plot()"
   ]
  },
  {
   "cell_type": "markdown",
   "metadata": {},
   "source": [
    "# Data processing\n",
    "Put here the core of the notebook. Feel free to further split this section into subsections."
   ]
  },
  {
   "cell_type": "code",
   "execution_count": null,
   "metadata": {},
   "outputs": [],
   "source": [
    "# Compile a sorted list of maximum intensities from each of our spectra\n",
    "# The first line grabs the largest value from each spectrum, \n",
    "# then divides the largest value in that list by each maximum (calculating I_0/I)\n",
    "intensities = raw_spectra.max().max()/raw_spectra.max() \n",
    "\n",
    "# Now we sort the list of values and convert it to a dataframe for display and plotting\n",
    "intensities = intensities.sort_index().to_frame()\n",
    "intensities.columns = ['Intensity'] # Add a proper label to the column\n",
    "intensities"
   ]
  },
  {
   "cell_type": "code",
   "execution_count": null,
   "metadata": {},
   "outputs": [],
   "source": [
    "# This is an example of a simple function with a \"docstring\". \n",
    "# When writing code, docstrings provide a simple way to document\n",
    "# the purpose of a function within your code. When a user calls \n",
    "# `help(func)` on your function, the docstring will pull up and \n",
    "# tell the user how to proceed. \n",
    "def p2f(x): \n",
    "    '''Convert percentage to floating point numbers'''\n",
    "    return float(x)/100\n",
    "\n",
    "init_conc =  # Fill in the concentration (in molarity) of the original CBr4 solution\n",
    "\n",
    "# The next line uses \"list comprehension\" to apply a function to each item in a list.\n",
    "# We convert the index object to a list, then convert each string to a fractional value with p2f, \n",
    "# then multiply each fraction by the original concentration\n",
    "intensities['Concentration (M)'] = [(p2f(item) * init_conc) for item in intensities.index.to_list()]\n",
    "\n",
    "plt.plot(intensities['Concentration (M)'], intensities['Intensity'], '.')\n",
    "plt.xlabel('Concentration (M)')\n",
    "plt.ylabel('$I_0/I$') \n",
    "plt.title('[Q] vs. $I_0/I$') # wrapping the input in `$` turns it into LaTeX math\n",
    "plt.show()"
   ]
  },
  {
   "cell_type": "markdown",
   "metadata": {},
   "source": [
    "### Collision radius via SES equation"
   ]
  },
  {
   "cell_type": "code",
   "execution_count": null,
   "metadata": {},
   "outputs": [],
   "source": [
    "# Variable setup\n",
    "# You'll need to create variables for the assorted values you'll use in \n",
    "# your calculations (e.g., tau_0, D, etc.)\n"
   ]
  },
  {
   "cell_type": "code",
   "execution_count": null,
   "metadata": {},
   "outputs": [],
   "source": [
    "## SES: \n",
    "#    k = (8 * R_gas * T) / (3 * \\eta)\n",
    "#    k =  4 * \\pi * N_A * radius * D / 1000\n",
    "k_ses = \n",
    "\n",
    "# Can format numbers with the `:#.#g` syntax. `g` is an auto-formatter for \n",
    "# numbers that automatically trims and converts to scientific form if necessary. \n",
    "print(f\"The reaction constant with the SES equation is {k_ses:g} 1/(M*s).\") \n",
    "\n",
    "# Now calculate the radius\n",
    "radius_ses = \n",
    "print(f\"The reaction radius is {radius_ses:g} dm\")"
   ]
  },
  {
   "cell_type": "markdown",
   "metadata": {},
   "source": [
    "### Collision radius via SES equation"
   ]
  },
  {
   "cell_type": "code",
   "execution_count": null,
   "metadata": {},
   "outputs": [],
   "source": [
    "# Variable setup\n",
    "# Fill in appropriate variables for the SES equation. "
   ]
  },
  {
   "cell_type": "code",
   "execution_count": null,
   "metadata": {},
   "outputs": [],
   "source": [
    "## SES: k = (8 * R * T) / (3 * \\eta)\n",
    "k_ses = \n",
    "print(f\"The reaction constant with the SES equation is {k_ses:g} 1/(M*s).\") \n",
    "\n",
    "radius_ses = \n",
    "print(f\"The reaction radius is {radius_ses:g} dm\")"
   ]
  },
  {
   "cell_type": "code",
   "execution_count": null,
   "metadata": {},
   "outputs": [],
   "source": [
    "# Now we need to plot a line based on the SES calculations\n",
    "\n",
    "# We start by making a range of concentration values. \n",
    "# `linspace` is an ideal function as it makes evenly spaced \n",
    "# points between the start and stop values (50, by default). \n",
    "conc_data = np.linspace(0.000,0.015)\n",
    "ses_fit = tau_0 * k_ses * xdata + 1\n",
    "\n",
    "plt.plot(xdata,ses_fit,'-',\n",
    "        intensities[\"Concentration (M)\"][:7], intensities[\"Intensity\"][:7], \".\")\n",
    "plt.xlabel('Concentration (M)')\n",
    "plt.ylabel('$I_0/I$')\n",
    "plt.title('$I_0/I$ vs. [Q]')\n",
    "plt.show()"
   ]
  },
  {
   "cell_type": "markdown",
   "metadata": {},
   "source": [
    "### Collision radius via Stern-Vollmer relation (no transient term)"
   ]
  },
  {
   "cell_type": "code",
   "execution_count": null,
   "metadata": {},
   "outputs": [],
   "source": [
    "# We're supposed to look at a linear fit for just the first few points. \n",
    "# Seaborn's `lmfit` is a good tool for this. By changing the number of \n",
    "# points used from intensities, you can see how the fit degrades as you \n",
    "# use more points. Change the value of `4` to smaller and larger numbers \n",
    "# and see how the fit changes\n",
    "sns.lmplot(data=intensities[:4],x=\"Concentration (M)\", y=\"Intensity\")"
   ]
  },
  {
   "cell_type": "code",
   "execution_count": null,
   "metadata": {},
   "outputs": [],
   "source": [
    "# Again, we need to make a linear fit of the data, so we'll \n",
    "# use the polyfit function from numpy. \n",
    "fit_coeff, fit_cov = np.polyfit(intensities[\"Concentration (M)\"][:4], intensities[\"Intensity\"][:4], 1, cov=True)\n",
    "\n",
    "fit_err = np.sqrt(np.diag(fit_cov))\n",
    "\n",
    "print(f\"slope: {fit_coeff[0]/tau_0:1.4g}, std. err.: {fit_err[0]/tau_0:g}\\n\\\n",
    "intercept: {fit_coeff[1]:g}, std. err.: {fit_err[1]:g}\")\n",
    "radius_fit = fit_coeff[0]/tau_0 * 1000 / (4 * sp.constants.Avogadro  * np.pi * diffusion_hexane )\n",
    "print(f\"The reaction radius is {radius_fit:g} dm\")"
   ]
  },
  {
   "cell_type": "code",
   "execution_count": null,
   "metadata": {},
   "outputs": [],
   "source": [
    "# We'll compare the fit from the previous method to one using the curve_fit \n",
    "# routine from scipy.optimize. In your summary, comment on the differences \n",
    "# (and why they exist). The key is in the y-intercept…\n",
    "\n",
    "def sv_func(conc, k_q):\n",
    "    return k_q * tau_0 * conc + 1\n",
    "\n",
    "\n",
    "from scipy.optimize import curve_fit\n",
    "\n",
    "# Need to provide initial guess for parameter…\n",
    "sv_coeff, sv_cov = curve_fit(sv_func, intensities[\"Concentration (M)\"][:4], intensities[\"Intensity\"][:4], p0=2e10)\n",
    "\n",
    "sv_err = np.sqrt(np.diag(sv_cov))\n",
    "\n",
    "print(sv_coeff, \"\\n\", sv_err)\n",
    "radius_sv = sv_coeff[0] * 1000 / (4 * sp.constants.Avogadro  * np.pi * diffusion_hexane )\n",
    "print(f\"The reaction radius is {radius_sv:g} dm\")"
   ]
  },
  {
   "cell_type": "markdown",
   "metadata": {},
   "source": [
    "### Collision radius via full Stern-Vollmer relation (with transient term)"
   ]
  },
  {
   "cell_type": "code",
   "execution_count": null,
   "metadata": {},
   "outputs": [],
   "source": [
    "def a_const(R, conc):\n",
    "    return # fill in the equation for the \"a\" constant\n",
    "\n",
    "def b_const(R, conc): \n",
    "    return # fill in the equation for the \"b\" constant\n",
    "\n",
    "def y_const(R, conc):\n",
    "    return # fill in the equation for the \"Y\" constant\n",
    "            # you must input `a` and `b` as \n",
    "            # `a_const(R, conc)` and `b_const(R, cons)`"
   ]
  },
  {
   "cell_type": "code",
   "execution_count": null,
   "metadata": {},
   "outputs": [],
   "source": [
    "# It's worth playing with values of R and conc to see how they affect Y\n",
    "# Experiment with them here. \n",
    "print(y_const(5e-8, 1.5e-2))"
   ]
  },
  {
   "cell_type": "code",
   "execution_count": null,
   "metadata": {},
   "outputs": [],
   "source": [
    "def intensity(conc, R):\n",
    "    return # fill in the equation for the intensity (I_0/I) as a function\n",
    "           # of conc, R, and y_const(conc, R)\n",
    "\n",
    "sv_coeff_2 , sv_cov_2 = curve_fit(intensity, \n",
    "                                  intensities[\"Concentration (M)\"], \n",
    "                                  intensities[\"Intensity\"], \n",
    "                                  p0= []# Enter an initial guess for the parameters (just R, in cm, in this case)\n",
    "                                 )\n",
    "\n",
    "sv_err_2 = np.sqrt(np.diag(sv_cov_2))\n",
    "\n",
    "print(f\"R = {sv_coeff_2[0]:g} ± {sv_err_2[0]:.2e} cm\")\n",
    "\n",
    "# Create a plot that shows your fit compared to the experimental data\n"
   ]
  },
  {
   "cell_type": "markdown",
   "metadata": {},
   "source": [
    "## Results\n",
    "Describe and comment the most important results.\n"
   ]
  },
  {
   "cell_type": "markdown",
   "metadata": {},
   "source": [
    "# References\n",
    "We report here relevant references:\n",
    "1. author1, article1, journal1, year1, url1\n",
    "2. author2, article2, journal2, year2, url2"
   ]
  }
 ],
 "metadata": {
  "kernelspec": {
   "display_name": "Python 3",
   "language": "python",
   "name": "python3"
  },
  "language_info": {
   "codemirror_mode": {
    "name": "ipython",
    "version": 3
   },
   "file_extension": ".py",
   "mimetype": "text/x-python",
   "name": "python",
   "nbconvert_exporter": "python",
   "pygments_lexer": "ipython3",
   "version": "3.7.9"
  },
  "nteract": {
   "version": "0.26.0"
  }
 },
 "nbformat": 4,
 "nbformat_minor": 4
}
